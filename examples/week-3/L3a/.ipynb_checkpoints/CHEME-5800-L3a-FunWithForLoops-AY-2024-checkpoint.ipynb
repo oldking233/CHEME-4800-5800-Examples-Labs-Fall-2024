{
 "cells": [
  {
   "cell_type": "markdown",
   "id": "3f20ce93-4de8-46c3-bcc5-d3f36431dfdb",
   "metadata": {},
   "source": [
    "# Example: Fun with Iteration Patterns for Arrays, Sets and Dictionaries\n",
    "One of the most conserved iteration constructs, found in many, if not all, programming languages, is [the `for-loop.`](https://docs.julialang.org/en/v1/base/base/#for)\n",
    "> [`for-loops`](https://docs.julialang.org/en/v1/base/base/#for) repeatedly evaluate a block of statements while iterating over a sequence of values. Thus, a [`for-loop`](https://docs.julialang.org/en/v1/base/base/#for) performs a fixed (known) number of iterations.\n",
    "\n",
    "Let's look at some example [`for-loops`](https://docs.julialang.org/en/v1/base/base/#for) where we iterate over both ordered linear collections, like [arrays](https://docs.julialang.org/en/v1/base/arrays/#lib-arrays) and [tuples](https://docs.julialang.org/en/v1/manual/functions/#Tuples), and unordered non-linear collections like [Dictionaries](https://docs.julialang.org/en/v1/manual/functions/#Tuples), [NamedTuples](https://docs.julialang.org/en/v1/base/base/#Core.NamedTuple) and [Sets](https://docs.julialang.org/en/v1/base/collections/#Base.Set)."
   ]
  },
  {
   "cell_type": "markdown",
   "id": "ae71e106-7fe2-4707-aa92-eeb2aca75c49",
   "metadata": {},
   "source": [
    "## Setup\n",
    "We set up the computational environment by including the `Include. jl` file using [the `include(...)` method](https://docs.julialang.org/en/v1/base/base/#Base.include). The `Include.jl` file loads external packages and functions we will use in these examples. \n",
    "* For additional information on functions and types used in this example, see the [Julia programming language documentation](https://docs.julialang.org/en/v1/). "
   ]
  },
  {
   "cell_type": "code",
   "execution_count": 3,
   "id": "c48d97b5-075f-4ac5-9054-f937518f2aef",
   "metadata": {},
   "outputs": [],
   "source": [
    "include(\"Include.jl\");"
   ]
  },
  {
   "cell_type": "markdown",
   "id": "72a36a5e-aae4-4ce0-a6a0-5fd1b144a756",
   "metadata": {},
   "source": [
    "## Example 1: Basic `for-loop` iteration example for an `Array`\n",
    "Let's start by looking at the basic structure of [a `for-loop.`](https://docs.julialang.org/en/v1/base/base/#for) A [`for-loop`](https://docs.julialang.org/en/v1/base/base/#for) has a header that specifies how many times the loop will iterate. The loop `index` (the `iteration variable`) is passed into the loop's body, where you put your logic. The `iteration variable` is always a new variable, even if a variable of the same name exists in the enclosing scope. \n",
    "* In Julia, the [`for-loop`](https://docs.julialang.org/en/v1/base/base/#for) has its own local scope that captures variables from the outside but doesn't pass new variables created inside the loop to the outside unless they already exist. The [local scope of the for loop](https://docs.julialang.org/en/v1/manual/variables-and-scoping/#local-scope) ends with the `end` keyword.\n",
    "* We use the [println function](https://docs.julialang.org/en/v1/base/io-network/#Base.println) to show output from the loop. This function takes a [`String`](https://docs.julialang.org/en/v1/manual/strings/) as an argument and sends it to `stdout` (the default output destination) or to an output specified by the caller. The `$(...)` is an example of a [String interpolation](https://docs.julialang.org/en/v1/manual/strings/#string-interpolation) operation."
   ]
  },
  {
   "cell_type": "code",
   "execution_count": 39,
   "id": "96c5419d-beeb-4a57-aeea-55ef84318458",
   "metadata": {},
   "outputs": [
    {
     "name": "stdout",
     "output_type": "stream",
     "text": [
      "The index i = 1 and the value = 0.08130793486959287\n",
      "The index i = 2 and the value = 0.08967492911050956\n",
      "The index i = 3 and the value = 0.3110503043390046\n",
      "The index i = 4 and the value = 0.7986525710464417\n",
      "The index i = 5 and the value = 0.9923589405218479\n"
     ]
    },
    {
     "data": {
      "text/plain": [
       "0.9923589405218479"
      ]
     },
     "execution_count": 39,
     "metadata": {},
     "output_type": "execute_result"
    }
   ],
   "source": [
    "number_of_elements = 5;\n",
    "random_vector_array = rand(number_of_elements); # create an array of random Floating point values\n",
    "value = nothing\n",
    "for i in 1:number_of_elements\n",
    "    value = random_vector_array[i];\n",
    "    println(\"The index i = $(i) and the value = $(random_vector_array[i])\");\n",
    "end # end of for loop scope\n",
    "value"
   ]
  },
  {
   "cell_type": "markdown",
   "id": "24fedc9d-b5ce-4e10-8802-3f8bd974bb89",
   "metadata": {},
   "source": [
    "Another [`for-loop`](https://docs.julialang.org/en/v1/base/base/#for) pattern is the [eachindex pattern](https://docs.julialang.org/en/v1/base/arrays/#Base.eachindex). We use the [eachindex pattern](https://docs.julialang.org/en/v1/base/arrays/#Base.eachindex) when we don't explicitly know how many elements we have in an ordered collection, but we want to visit all of them in order. \n",
    "* The [eachindex pattern](https://docs.julialang.org/en/v1/base/arrays/#Base.eachindex) is the preferred pattern compared with something like `for i in 1:length(random_vector_array)` when we don't know how many elements are in the `random_vector_array` collection. __Why is this true?__"
   ]
  },
  {
   "cell_type": "code",
   "execution_count": 7,
   "id": "d2ae0e2f-89b4-48c1-8969-fe42f540316b",
   "metadata": {},
   "outputs": [
    {
     "name": "stdout",
     "output_type": "stream",
     "text": [
      "The index i = 1 and the value = 0.9829459947092559\n",
      "The index i = 2 and the value = 0.48592195544473493\n",
      "The index i = 3 and the value = 0.6144689681480376\n",
      "The index i = 4 and the value = 0.9635346621442915\n",
      "The index i = 5 and the value = 0.10922263094498108\n"
     ]
    }
   ],
   "source": [
    "# N = length(random_vector_array)\n",
    "for i ∈ eachindex(random_vector_array)\n",
    "    value = random_vector_array[i];\n",
    "    println(\"The index i = $(i) and the value = $(value)\");\n",
    "end"
   ]
  },
  {
   "cell_type": "markdown",
   "id": "acddc96b-f2db-40bd-beca-c63225df5cab",
   "metadata": {},
   "source": [
    "If we don't care about the element index $i$ in a collection but instead want the values, we can iterate over the elements directly. For example, the code block below accesses the values of the `random_vector_array`  directly but `NOT` their indexes:"
   ]
  },
  {
   "cell_type": "code",
   "execution_count": 9,
   "id": "bc63300b-fc31-4b6b-bc75-01e431cd0b56",
   "metadata": {},
   "outputs": [
    {
     "name": "stdout",
     "output_type": "stream",
     "text": [
      "The value = 0.9829459947092559\n",
      "The value = 0.48592195544473493\n",
      "The value = 0.6144689681480376\n",
      "The value = 0.9635346621442915\n",
      "The value = 0.10922263094498108\n"
     ]
    }
   ],
   "source": [
    "for value ∈ random_vector_array\n",
    "    println(\"The value = $(value)\");\n",
    "end"
   ]
  },
  {
   "cell_type": "markdown",
   "id": "e8f9b9dc-df21-4f16-bc79-57fd720e0989",
   "metadata": {},
   "source": [
    "Finally, we can iterate over other types of ordered collections, e.g., [tuples](https://docs.julialang.org/en/v1/manual/functions/#Tuples), which are fixed-length ordered containers that can hold any values, but cannot be modified once constructed, i.e., they are immutable. Let's build a `tuple` holding some `Int` types and iterate over these using the [eachindex pattern](https://docs.julialang.org/en/v1/base/arrays/#Base.eachindex).\n",
    "* The previous examples used the [println function](https://docs.julialang.org/en/v1/base/io-network/#Base.println) to print output; here, we show another approach that does the same thing, namely the [@show macro](https://docs.julialang.org/en/v1/base/base/#Base.@show) which prints one or more expressions, and their results, to `stdout`, and returns the last result:"
   ]
  },
  {
   "cell_type": "code",
   "execution_count": 11,
   "id": "f3a4f2c0-4411-4576-8c74-67d69526ea71",
   "metadata": {},
   "outputs": [
    {
     "name": "stdout",
     "output_type": "stream",
     "text": [
      "(i, example_tuple[i]) = (1, 1)\n",
      "(i, example_tuple[i]) = (2, 2)\n",
      "(i, example_tuple[i]) = (3, 3)\n",
      "(i, example_tuple[i]) = (4, 6)\n",
      "(i, example_tuple[i]) = (5, 5)\n",
      "(i, example_tuple[i]) = (6, 4)\n",
      "(i, example_tuple[i]) = (7, 1)\n",
      "(i, example_tuple[i]) = (8, 1)\n",
      "(i, example_tuple[i]) = (9, 1)\n",
      "(i, example_tuple[i]) = (10, 1)\n"
     ]
    }
   ],
   "source": [
    "example_tuple = (1,2,3,6,5,4,1,1,1,1)\n",
    "for i ∈ eachindex(example_tuple)\n",
    "    @show (i, example_tuple[i])\n",
    "end"
   ]
  },
  {
   "cell_type": "markdown",
   "id": "d08291e2-f5b0-466d-b19e-be83f225217b",
   "metadata": {},
   "source": [
    "## Example 2: Basic `for-loop` iteration example for an unordered `Set.`\n",
    "One of the central differences between linear and nonlinear data structures is the organization of the data and how we traverse the items in the data structure. In the case of unordered non-linear collections such as [Sets](https://docs.julialang.org/en/v1/base/collections/#Base.Set), we can use a [`for-loop`](https://docs.julialang.org/en/v1/base/base/#for) to visit each element of the collection. However, because the original collection is unordered, the order in which we visit the elements will be random. \n",
    "* In the specific case of [Sets](https://docs.julialang.org/en/v1/base/collections/#Base.Set), which model `bags of stuff`, there is no notion of index (which can be a little confusing). Thus, we can only access the items directly. The other exciting thing about [Sets](https://docs.julialang.org/en/v1/base/collections/#Base.Set) is that they are `unique,` i.e., there are no repeated elements"
   ]
  },
  {
   "cell_type": "code",
   "execution_count": 13,
   "id": "acf29425-b0ba-4fe7-9730-c55e81b39c7e",
   "metadata": {},
   "outputs": [
    {
     "name": "stdout",
     "output_type": "stream",
     "text": [
      "value = 'C'\n",
      "value = 'U'\n",
      "value = 'D'\n",
      "value = 'A'\n",
      "value = 'R'\n",
      "value = 'S'\n",
      "value = 'T'\n",
      "value = 'B'\n"
     ]
    }
   ],
   "source": [
    "example_set = Set{Char}(['A','B','C','D','R','U','S','T','A']);\n",
    "for value ∈ example_set\n",
    "    @show value\n",
    "end"
   ]
  },
  {
   "cell_type": "markdown",
   "id": "388c56da-a830-40af-951a-0af875e0d627",
   "metadata": {},
   "source": [
    "## Example 3: Basic `for-loop` iteration of an unordered `Dict`\n",
    "Dictionaries are also examples of non-linear data structures; non-linear data structures do not sequentially arrange data. Instead, data can be connected in a hierarchical or network-based format, allowing for more complex relationships between the elements. However, we can still traverse a dictionary [using a `for-loop`](https://docs.julialang.org/en/v1/base/base/#for).\n",
    "\n",
    "We gathered a daily open-high-low-close `dataset` for each firm in the [S&P500](https://en.wikipedia.org/wiki/S%26P_500) from `01-03-2018` until `12-29-2023`, along with data for a few exchange-traded funds and volatility products during that time. \n",
    "* Let's load the `orignal_dataset` by calling the `MyMarketDataSet()` function and remove firms that do not have the maximum number of trading days. The cleaned dataset $\\mathcal{D}$ is stored in the `dataset` variable, where the dataset $\\mathcal{D}$ has data for $\\mathcal{L}$ firms.\n",
    "* When we use a [`for-loop`](https://docs.julialang.org/en/v1/base/base/#for) with a [Dictionary](https://docs.julialang.org/en/v1/base/collections/#Dictionaries), which is an unordered collection of `key=>value` pairs, we get both the `key` and `value` as the `iteration variable` organized as a `tuple.`"
   ]
  },
  {
   "cell_type": "code",
   "execution_count": 15,
   "id": "bacdd619-772d-4176-9868-243cc18d1bcb",
   "metadata": {},
   "outputs": [],
   "source": [
    "original_dataset = MyMarketDataSet() |> x-> x[\"dataset\"];"
   ]
  },
  {
   "cell_type": "code",
   "execution_count": 43,
   "id": "fe2530c2-b6ad-4419-99cc-da04ef5823cd",
   "metadata": {},
   "outputs": [
    {
     "data": {
      "text/plain": [
       "Dict{String, DataFrame} with 515 entries:\n",
       "  \"TPR\"  => \u001b[1m1508×8 DataFrame\u001b[0m\u001b[0m…\n",
       "  \"EMR\"  => \u001b[1m1508×8 DataFrame\u001b[0m\u001b[0m…\n",
       "  \"CTAS\" => \u001b[1m1508×8 DataFrame\u001b[0m\u001b[0m…\n",
       "  \"HSIC\" => \u001b[1m1508×8 DataFrame\u001b[0m\u001b[0m…\n",
       "  \"KIM\"  => \u001b[1m1508×8 DataFrame\u001b[0m\u001b[0m…\n",
       "  \"PLD\"  => \u001b[1m1508×8 DataFrame\u001b[0m\u001b[0m…\n",
       "  \"IEX\"  => \u001b[1m1508×8 DataFrame\u001b[0m\u001b[0m…\n",
       "  \"KSU\"  => \u001b[1m994×8 DataFrame\u001b[0m\u001b[0m…\n",
       "  \"BAC\"  => \u001b[1m1508×8 DataFrame\u001b[0m\u001b[0m…\n",
       "  \"CBOE\" => \u001b[1m1508×8 DataFrame\u001b[0m\u001b[0m…\n",
       "  \"EXR\"  => \u001b[1m1508×8 DataFrame\u001b[0m\u001b[0m…\n",
       "  \"NCLH\" => \u001b[1m1508×8 DataFrame\u001b[0m\u001b[0m…\n",
       "  \"CVS\"  => \u001b[1m1508×8 DataFrame\u001b[0m\u001b[0m…\n",
       "  \"DRI\"  => \u001b[1m1508×8 DataFrame\u001b[0m\u001b[0m…\n",
       "  \"DTE\"  => \u001b[1m1508×8 DataFrame\u001b[0m\u001b[0m…\n",
       "  \"ZION\" => \u001b[1m1508×8 DataFrame\u001b[0m\u001b[0m…\n",
       "  \"AVY\"  => \u001b[1m1508×8 DataFrame\u001b[0m\u001b[0m…\n",
       "  \"EW\"   => \u001b[1m1508×8 DataFrame\u001b[0m\u001b[0m…\n",
       "  \"EA\"   => \u001b[1m1508×8 DataFrame\u001b[0m\u001b[0m…\n",
       "  \"NWSA\" => \u001b[1m1508×8 DataFrame\u001b[0m\u001b[0m…\n",
       "  \"BBWI\" => \u001b[1m607×8 DataFrame\u001b[0m\u001b[0m…\n",
       "  \"CAG\"  => \u001b[1m1508×8 DataFrame\u001b[0m\u001b[0m…\n",
       "  \"GPC\"  => \u001b[1m1508×8 DataFrame\u001b[0m\u001b[0m…\n",
       "  \"FCX\"  => \u001b[1m1508×8 DataFrame\u001b[0m\u001b[0m…\n",
       "  \"GILD\" => \u001b[1m1508×8 DataFrame\u001b[0m\u001b[0m…\n",
       "  ⋮      => ⋮"
      ]
     },
     "execution_count": 43,
     "metadata": {},
     "output_type": "execute_result"
    }
   ],
   "source": [
    "original_dataset"
   ]
  },
  {
   "cell_type": "code",
   "execution_count": 47,
   "id": "7db911da-214b-4bf1-9eda-e4b5ef4b093a",
   "metadata": {},
   "outputs": [],
   "source": [
    "original_dataset[\"AAPL\"]; # Hmmm. we access the elements of dictionary like an array?"
   ]
  },
  {
   "cell_type": "markdown",
   "id": "28cede1f-eca0-48ef-8db6-c425f45b5900",
   "metadata": {},
   "source": [
    "### Clean the data\n",
    "Not all tickers in our dataset have the maximum number of trading days for various reasons, e.g., acquisition or de-listing events. Let's collect only those tickers with the maximum number of trading days.\n",
    "\n",
    "* First, let's compute the number of records for a company that we know has a maximum value, e.g., `AAPL`, and save that value in the `maximum_number_trading_days` variable:"
   ]
  },
  {
   "cell_type": "code",
   "execution_count": 19,
   "id": "afd200ea-077d-4997-adf9-aabb2a7c87d8",
   "metadata": {},
   "outputs": [
    {
     "data": {
      "text/plain": [
       "1508"
      ]
     },
     "execution_count": 19,
     "metadata": {},
     "output_type": "execute_result"
    }
   ],
   "source": [
    "maximum_number_trading_days = original_dataset[\"AAPL\"] |> nrow; # nrow? (check out: DataFrames.jl)"
   ]
  },
  {
   "cell_type": "markdown",
   "id": "a0804c79-42d2-4de1-be57-16f208be66ad",
   "metadata": {},
   "source": [
    "Now, let's iterate through our data and collect only tickers with `maximum_number_trading_days` records. Save that data in the `dataset::Dict{String,DataFrame}` variable:"
   ]
  },
  {
   "cell_type": "code",
   "execution_count": 21,
   "id": "bc45171b-b81a-4220-afac-2af91e35c2ff",
   "metadata": {},
   "outputs": [],
   "source": [
    "dataset = Dict{String, DataFrame}();\n",
    "for (ticker,data) ∈ original_dataset    \n",
    "    if (nrow(data) == maximum_number_trading_days)\n",
    "        dataset[ticker] = data;\n",
    "    end\n",
    "end\n",
    "dataset;"
   ]
  },
  {
   "cell_type": "code",
   "execution_count": 22,
   "id": "80314d4a-86b5-42e3-8c88-15df0a6a6031",
   "metadata": {},
   "outputs": [
    {
     "data": {
      "text/plain": [
       "460"
      ]
     },
     "execution_count": 22,
     "metadata": {},
     "output_type": "execute_result"
    }
   ],
   "source": [
    "length(dataset)"
   ]
  }
 ],
 "metadata": {
  "kernelspec": {
   "display_name": "Julia 1.10.5",
   "language": "julia",
   "name": "julia-1.10"
  },
  "language_info": {
   "file_extension": ".jl",
   "mimetype": "application/julia",
   "name": "julia",
   "version": "1.10.5"
  }
 },
 "nbformat": 4,
 "nbformat_minor": 5
}
